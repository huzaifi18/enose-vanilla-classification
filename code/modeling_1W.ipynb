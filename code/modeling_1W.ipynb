{
 "cells": [
  {
   "cell_type": "code",
   "execution_count": 14,
   "id": "99b9865b",
   "metadata": {},
   "outputs": [],
   "source": [
    "import numpy as np\n",
    "import pandas as pd\n",
    "\n",
    "from sklearn.model_selection import train_test_split\n",
    "from sklearn.preprocessing import LabelEncoder\n",
    "from sklearn.model_selection import LeaveOneOut, GridSearchCV\n",
    "from sklearn.pipeline import Pipeline\n",
    "from sklearn.compose import ColumnTransformer\n",
    "from sklearn.svm import SVC\n",
    "\n",
    "from jcopml.pipeline import num_pipe, cat_pipe\n",
    "from jcopml.plot import plot_classification_report, plot_confusion_matrix, plot_roc_curve"
   ]
  },
  {
   "cell_type": "code",
   "execution_count": 2,
   "id": "79172282",
   "metadata": {},
   "outputs": [
    {
     "data": {
      "text/html": [
       "<div>\n",
       "<style scoped>\n",
       "    .dataframe tbody tr th:only-of-type {\n",
       "        vertical-align: middle;\n",
       "    }\n",
       "\n",
       "    .dataframe tbody tr th {\n",
       "        vertical-align: top;\n",
       "    }\n",
       "\n",
       "    .dataframe thead th {\n",
       "        text-align: right;\n",
       "    }\n",
       "</style>\n",
       "<table border=\"1\" class=\"dataframe\">\n",
       "  <thead>\n",
       "    <tr style=\"text-align: right;\">\n",
       "      <th></th>\n",
       "      <th>mu1</th>\n",
       "      <th>mu2</th>\n",
       "      <th>mu3</th>\n",
       "      <th>mu4</th>\n",
       "      <th>mu5</th>\n",
       "      <th>mu6</th>\n",
       "      <th>mu7</th>\n",
       "      <th>mu8</th>\n",
       "      <th>mu9</th>\n",
       "      <th>mu10</th>\n",
       "      <th>...</th>\n",
       "      <th>grad2</th>\n",
       "      <th>grad3</th>\n",
       "      <th>grad4</th>\n",
       "      <th>grad5</th>\n",
       "      <th>grad6</th>\n",
       "      <th>grad7</th>\n",
       "      <th>grad8</th>\n",
       "      <th>grad9</th>\n",
       "      <th>grad10</th>\n",
       "      <th>label</th>\n",
       "    </tr>\n",
       "  </thead>\n",
       "  <tbody>\n",
       "    <tr>\n",
       "      <th>0</th>\n",
       "      <td>278.774707</td>\n",
       "      <td>43.989714</td>\n",
       "      <td>0.076024</td>\n",
       "      <td>232.573832</td>\n",
       "      <td>72.837648</td>\n",
       "      <td>57.169208</td>\n",
       "      <td>4.608077</td>\n",
       "      <td>519.730558</td>\n",
       "      <td>479.891748</td>\n",
       "      <td>473.606706</td>\n",
       "      <td>...</td>\n",
       "      <td>1.4375</td>\n",
       "      <td>0.1250</td>\n",
       "      <td>63.8125</td>\n",
       "      <td>27.0625</td>\n",
       "      <td>18.5000</td>\n",
       "      <td>0.4375</td>\n",
       "      <td>107.3750</td>\n",
       "      <td>56.1875</td>\n",
       "      <td>105.3125</td>\n",
       "      <td>A</td>\n",
       "    </tr>\n",
       "    <tr>\n",
       "      <th>1</th>\n",
       "      <td>224.539341</td>\n",
       "      <td>21.197600</td>\n",
       "      <td>-0.304591</td>\n",
       "      <td>197.780018</td>\n",
       "      <td>40.784902</td>\n",
       "      <td>33.671422</td>\n",
       "      <td>1.698228</td>\n",
       "      <td>537.708162</td>\n",
       "      <td>358.129115</td>\n",
       "      <td>370.972376</td>\n",
       "      <td>...</td>\n",
       "      <td>0.6250</td>\n",
       "      <td>0.0625</td>\n",
       "      <td>38.5000</td>\n",
       "      <td>11.1875</td>\n",
       "      <td>8.3750</td>\n",
       "      <td>0.2500</td>\n",
       "      <td>63.8125</td>\n",
       "      <td>29.3125</td>\n",
       "      <td>65.5625</td>\n",
       "      <td>A</td>\n",
       "    </tr>\n",
       "    <tr>\n",
       "      <th>2</th>\n",
       "      <td>247.567444</td>\n",
       "      <td>29.502649</td>\n",
       "      <td>2.993779</td>\n",
       "      <td>195.053407</td>\n",
       "      <td>56.158554</td>\n",
       "      <td>46.556542</td>\n",
       "      <td>4.758265</td>\n",
       "      <td>513.272434</td>\n",
       "      <td>368.087757</td>\n",
       "      <td>409.851579</td>\n",
       "      <td>...</td>\n",
       "      <td>0.8125</td>\n",
       "      <td>0.1250</td>\n",
       "      <td>41.1250</td>\n",
       "      <td>13.5625</td>\n",
       "      <td>10.1250</td>\n",
       "      <td>0.2500</td>\n",
       "      <td>68.3750</td>\n",
       "      <td>32.1875</td>\n",
       "      <td>71.8750</td>\n",
       "      <td>A</td>\n",
       "    </tr>\n",
       "    <tr>\n",
       "      <th>3</th>\n",
       "      <td>323.451393</td>\n",
       "      <td>76.388148</td>\n",
       "      <td>3.697569</td>\n",
       "      <td>294.359733</td>\n",
       "      <td>105.376635</td>\n",
       "      <td>76.852377</td>\n",
       "      <td>9.373920</td>\n",
       "      <td>615.302400</td>\n",
       "      <td>538.694226</td>\n",
       "      <td>545.551134</td>\n",
       "      <td>...</td>\n",
       "      <td>2.3750</td>\n",
       "      <td>0.1875</td>\n",
       "      <td>84.0625</td>\n",
       "      <td>41.6250</td>\n",
       "      <td>27.1875</td>\n",
       "      <td>0.6250</td>\n",
       "      <td>143.3125</td>\n",
       "      <td>71.0000</td>\n",
       "      <td>126.1250</td>\n",
       "      <td>A</td>\n",
       "    </tr>\n",
       "    <tr>\n",
       "      <th>4</th>\n",
       "      <td>253.456823</td>\n",
       "      <td>29.082664</td>\n",
       "      <td>3.628899</td>\n",
       "      <td>216.474224</td>\n",
       "      <td>57.839752</td>\n",
       "      <td>51.096883</td>\n",
       "      <td>3.429937</td>\n",
       "      <td>527.428324</td>\n",
       "      <td>386.860704</td>\n",
       "      <td>439.718273</td>\n",
       "      <td>...</td>\n",
       "      <td>0.8125</td>\n",
       "      <td>0.1875</td>\n",
       "      <td>41.5000</td>\n",
       "      <td>12.5625</td>\n",
       "      <td>9.6875</td>\n",
       "      <td>0.3125</td>\n",
       "      <td>66.5000</td>\n",
       "      <td>31.9375</td>\n",
       "      <td>72.2500</td>\n",
       "      <td>A</td>\n",
       "    </tr>\n",
       "  </tbody>\n",
       "</table>\n",
       "<p>5 rows × 41 columns</p>\n",
       "</div>"
      ],
      "text/plain": [
       "          mu1        mu2       mu3         mu4         mu5        mu6  \\\n",
       "0  278.774707  43.989714  0.076024  232.573832   72.837648  57.169208   \n",
       "1  224.539341  21.197600 -0.304591  197.780018   40.784902  33.671422   \n",
       "2  247.567444  29.502649  2.993779  195.053407   56.158554  46.556542   \n",
       "3  323.451393  76.388148  3.697569  294.359733  105.376635  76.852377   \n",
       "4  253.456823  29.082664  3.628899  216.474224   57.839752  51.096883   \n",
       "\n",
       "        mu7         mu8         mu9        mu10  ...   grad2   grad3    grad4  \\\n",
       "0  4.608077  519.730558  479.891748  473.606706  ...  1.4375  0.1250  63.8125   \n",
       "1  1.698228  537.708162  358.129115  370.972376  ...  0.6250  0.0625  38.5000   \n",
       "2  4.758265  513.272434  368.087757  409.851579  ...  0.8125  0.1250  41.1250   \n",
       "3  9.373920  615.302400  538.694226  545.551134  ...  2.3750  0.1875  84.0625   \n",
       "4  3.429937  527.428324  386.860704  439.718273  ...  0.8125  0.1875  41.5000   \n",
       "\n",
       "     grad5    grad6   grad7     grad8    grad9    grad10  label  \n",
       "0  27.0625  18.5000  0.4375  107.3750  56.1875  105.3125      A  \n",
       "1  11.1875   8.3750  0.2500   63.8125  29.3125   65.5625      A  \n",
       "2  13.5625  10.1250  0.2500   68.3750  32.1875   71.8750      A  \n",
       "3  41.6250  27.1875  0.6250  143.3125  71.0000  126.1250      A  \n",
       "4  12.5625   9.6875  0.3125   66.5000  31.9375   72.2500      A  \n",
       "\n",
       "[5 rows x 41 columns]"
      ]
     },
     "execution_count": 2,
     "metadata": {},
     "output_type": "execute_result"
    }
   ],
   "source": [
    "df = pd.read_csv(\"../dataset/data_2c40d1w.csv\") # 1 window dataset\n",
    "df.head()"
   ]
  },
  {
   "cell_type": "code",
   "execution_count": 17,
   "id": "6232993c",
   "metadata": {},
   "outputs": [
    {
     "data": {
      "text/plain": [
       "((56, 40), (14, 40), (56,), (14,))"
      ]
     },
     "execution_count": 17,
     "metadata": {},
     "output_type": "execute_result"
    }
   ],
   "source": [
    "X = df.drop(columns=\"label\")\n",
    "y = df.label\n",
    "\n",
    "X_train, X_test, y_train, y_test = train_test_split(X, y, test_size=0.2, stratify=y, random_state=42)\n",
    "X_train.shape, X_test.shape, y_train.shape, y_test.shape"
   ]
  },
  {
   "cell_type": "code",
   "execution_count": 25,
   "id": "6b57b51e",
   "metadata": {},
   "outputs": [],
   "source": [
    "LOOCV = LeaveOneOut()\n",
    "\n",
    "preprocessor = ColumnTransformer([\n",
    "    ('numeric', num_pipe(scaling=\"minmax\"), list(X.columns)),\n",
    "])\n",
    "\n",
    "pipeline_svm_linear = Pipeline([\n",
    "    ('prep', preprocessor),\n",
    "    ('algo', SVC(kernel=\"linear\", probability=True, random_state=42))\n",
    "])\n",
    "\n",
    "pipeline_svm_rbf = Pipeline([\n",
    "    ('prep', preprocessor),\n",
    "    ('algo', SVC(kernel=\"rbf\",probability=True, random_state=42))\n",
    "])\n",
    "\n",
    "svm_params = {'algo__gamma': np.array([1.e-03, 1.e-02, 1.e-01, 1.e+00, 1.e+01, 1.e+02, 1.e+03]),\n",
    "              'algo__C': np.array([1.e-03, 1.e-02, 1.e-01, 1.e+00, 1.e+01, 1.e+02, 1.e+03])}"
   ]
  },
  {
   "cell_type": "code",
   "execution_count": 26,
   "id": "9cc22e7a",
   "metadata": {},
   "outputs": [],
   "source": [
    "model_svm_linear = GridSearchCV(pipeline_svm_linear, svm_params, cv=LOOCV, n_jobs=-1);\n",
    "model_svm_rbf = GridSearchCV(pipeline_svm_rbf, svm_params, cv=LOOCV, n_jobs=-1);\n",
    "\n",
    "model_svm_linear.fit(X_train, y_train);\n",
    "model_svm_rbf.fit(X_train, y_train);"
   ]
  },
  {
   "cell_type": "markdown",
   "id": "666fee47",
   "metadata": {},
   "source": [
    "# Linear SVM Model Evaluation"
   ]
  },
  {
   "cell_type": "code",
   "execution_count": 27,
   "id": "f53097ca",
   "metadata": {},
   "outputs": [
    {
     "name": "stdout",
     "output_type": "stream",
     "text": [
      "{'algo__C': 10.0, 'algo__gamma': 0.001}\n",
      "0.9285714285714286 0.75 0.7142857142857143\n"
     ]
    }
   ],
   "source": [
    "print(model_svm_linear.best_params_)\n",
    "print(model_svm_linear.score(X_train, y_train), model_svm_linear.best_score_, model_svm_linear.score(X_test, y_test))"
   ]
  },
  {
   "cell_type": "code",
   "execution_count": 28,
   "id": "0f766e6d",
   "metadata": {},
   "outputs": [
    {
     "name": "stdout",
     "output_type": "stream",
     "text": [
      "Train report\n",
      "              precision    recall  f1-score   support\n",
      "\n",
      "           A       0.90      0.96      0.93        28\n",
      "           B       0.96      0.89      0.93        28\n",
      "\n",
      "    accuracy                           0.93        56\n",
      "   macro avg       0.93      0.93      0.93        56\n",
      "weighted avg       0.93      0.93      0.93        56\n",
      "\n",
      "\n",
      "Test report\n",
      "              precision    recall  f1-score   support\n",
      "\n",
      "           A       0.71      0.71      0.71         7\n",
      "           B       0.71      0.71      0.71         7\n",
      "\n",
      "    accuracy                           0.71        14\n",
      "   macro avg       0.71      0.71      0.71        14\n",
      "weighted avg       0.71      0.71      0.71        14\n",
      "\n"
     ]
    }
   ],
   "source": [
    "plot_classification_report(X_train, y_train, X_test, y_test, model_svm_linear, report=True)"
   ]
  },
  {
   "cell_type": "code",
   "execution_count": 29,
   "id": "3f914c41",
   "metadata": {},
   "outputs": [
    {
     "data": {
      "image/png": "[encoded data removed]",
      "text/plain": [
       "<Figure size 792x360 with 2 Axes>"
      ]
     },
     "metadata": {
      "needs_background": "light"
     },
     "output_type": "display_data"
    }
   ],
   "source": [
    "plot_classification_report(X_train, y_train, X_test, y_test, model_svm_linear)"
   ]
  },
  {
   "cell_type": "code",
   "execution_count": 30,
   "id": "39e20033",
   "metadata": {},
   "outputs": [
    {
     "data": {
      "image/png": "[encoded data removed]",
      "text/plain": [
       "<Figure size 792x360 with 2 Axes>"
      ]
     },
     "metadata": {
      "needs_background": "light"
     },
     "output_type": "display_data"
    }
   ],
   "source": [
    "plot_confusion_matrix(X_train, y_train, X_test, y_test, model_svm_linear)"
   ]
  },
  {
   "cell_type": "markdown",
   "id": "ac00e1e6",
   "metadata": {},
   "source": [
    "# RBF SVM Model Evaluation"
   ]
  },
  {
   "cell_type": "code",
   "execution_count": 31,
   "id": "3f3b7955",
   "metadata": {},
   "outputs": [
    {
     "name": "stdout",
     "output_type": "stream",
     "text": [
      "{'algo__C': 10.0, 'algo__gamma': 0.1}\n",
      "0.9107142857142857 0.7678571428571429 0.7857142857142857\n"
     ]
    }
   ],
   "source": [
    "print(model_svm_rbf.best_params_)\n",
    "print(model_svm_rbf.score(X_train, y_train), model_svm_rbf.best_score_, model_svm_rbf.score(X_test, y_test))"
   ]
  },
  {
   "cell_type": "code",
   "execution_count": 32,
   "id": "46b9ad34",
   "metadata": {},
   "outputs": [
    {
     "name": "stdout",
     "output_type": "stream",
     "text": [
      "Train report\n",
      "              precision    recall  f1-score   support\n",
      "\n",
      "           A       0.93      0.89      0.91        28\n",
      "           B       0.90      0.93      0.91        28\n",
      "\n",
      "    accuracy                           0.91        56\n",
      "   macro avg       0.91      0.91      0.91        56\n",
      "weighted avg       0.91      0.91      0.91        56\n",
      "\n",
      "\n",
      "Test report\n",
      "              precision    recall  f1-score   support\n",
      "\n",
      "           A       0.75      0.86      0.80         7\n",
      "           B       0.83      0.71      0.77         7\n",
      "\n",
      "    accuracy                           0.79        14\n",
      "   macro avg       0.79      0.79      0.78        14\n",
      "weighted avg       0.79      0.79      0.78        14\n",
      "\n"
     ]
    }
   ],
   "source": [
    "plot_classification_report(X_train, y_train, X_test, y_test, model_svm_rbf, report=True)"
   ]
  },
  {
   "cell_type": "code",
   "execution_count": 33,
   "id": "769ace03",
   "metadata": {},
   "outputs": [
    {
     "data": {
      "image/png": "[encoded data removed]",
      "text/plain": [
       "<Figure size 792x360 with 2 Axes>"
      ]
     },
     "metadata": {
      "needs_background": "light"
     },
     "output_type": "display_data"
    }
   ],
   "source": [
    "plot_classification_report(X_train, y_train, X_test, y_test, model_svm_rbf)"
   ]
  },
  {
   "cell_type": "code",
   "execution_count": 34,
   "id": "a9ef2481",
   "metadata": {},
   "outputs": [
    {
     "data": {
      "image/png": "[encoded data removed]",
      "text/plain": [
       "<Figure size 792x360 with 2 Axes>"
      ]
     },
     "metadata": {
      "needs_background": "light"
     },
     "output_type": "display_data"
    }
   ],
   "source": [
    "plot_confusion_matrix(X_train, y_train, X_test, y_test, model_svm_rbf)"
   ]
  },
  {
   "cell_type": "markdown",
   "id": "1c04884f",
   "metadata": {},
   "source": [
    "# Save Model"
   ]
  },
  {
   "cell_type": "code",
   "execution_count": 35,
   "id": "c7075c59",
   "metadata": {},
   "outputs": [],
   "source": [
    "import pickle\n",
    "import os\n",
    "file_path = \"../model\"\n",
    "os.makedirs(file_path, exist_ok=True)\n",
    "pickle.dump(model_svm_linear, open(f\"{file_path}/svm_linear_1w.pkl\", \"wb\"))\n",
    "pickle.dump(model_svm_rbf, open(f\"{file_path}/svm_rbf_1w.pkl\", \"wb\"))"
   ]
  },
  {
   "cell_type": "code",
   "execution_count": null,
   "id": "87b27af9",
   "metadata": {},
   "outputs": [],
   "source": []
  }
 ],
 "metadata": {
  "kernelspec": {
   "display_name": "Python [conda env:tf]",
   "language": "python",
   "name": "conda-env-tf-py"
  },
  "language_info": {
   "codemirror_mode": {
    "name": "ipython",
    "version": 3
   },
   "file_extension": ".py",
   "mimetype": "text/x-python",
   "name": "python",
   "nbconvert_exporter": "python",
   "pygments_lexer": "ipython3",
   "version": "3.7.11"
  }
 },
 "nbformat": 4,
 "nbformat_minor": 5
}
