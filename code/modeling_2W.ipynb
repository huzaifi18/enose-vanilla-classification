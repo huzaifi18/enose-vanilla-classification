{
 "cells": [
  {
   "cell_type": "code",
   "execution_count": 3,
   "id": "99b9865b",
   "metadata": {},
   "outputs": [],
   "source": [
    "import numpy as np\n",
    "import pandas as pd\n",
    "\n",
    "from sklearn.model_selection import train_test_split\n",
    "from sklearn.preprocessing import LabelEncoder\n",
    "from sklearn.model_selection import LeaveOneOut, GridSearchCV\n",
    "from sklearn.pipeline import Pipeline\n",
    "from sklearn.compose import ColumnTransformer\n",
    "from sklearn.svm import SVC\n",
    "\n",
    "from jcopml.pipeline import num_pipe, cat_pipe\n",
    "from jcopml.plot import plot_classification_report, plot_confusion_matrix"
   ]
  },
  {
   "cell_type": "code",
   "execution_count": 4,
   "id": "79172282",
   "metadata": {},
   "outputs": [
    {
     "data": {
      "text/html": [
       "<div>\n",
       "<style scoped>\n",
       "    .dataframe tbody tr th:only-of-type {\n",
       "        vertical-align: middle;\n",
       "    }\n",
       "\n",
       "    .dataframe tbody tr th {\n",
       "        vertical-align: top;\n",
       "    }\n",
       "\n",
       "    .dataframe thead th {\n",
       "        text-align: right;\n",
       "    }\n",
       "</style>\n",
       "<table border=\"1\" class=\"dataframe\">\n",
       "  <thead>\n",
       "    <tr style=\"text-align: right;\">\n",
       "      <th></th>\n",
       "      <th>mu11</th>\n",
       "      <th>mu12</th>\n",
       "      <th>mu13</th>\n",
       "      <th>mu14</th>\n",
       "      <th>mu15</th>\n",
       "      <th>mu16</th>\n",
       "      <th>mu17</th>\n",
       "      <th>mu18</th>\n",
       "      <th>mu19</th>\n",
       "      <th>mu110</th>\n",
       "      <th>...</th>\n",
       "      <th>grad22</th>\n",
       "      <th>grad23</th>\n",
       "      <th>grad24</th>\n",
       "      <th>grad25</th>\n",
       "      <th>grad26</th>\n",
       "      <th>grad27</th>\n",
       "      <th>grad28</th>\n",
       "      <th>grad29</th>\n",
       "      <th>grad210</th>\n",
       "      <th>label</th>\n",
       "    </tr>\n",
       "  </thead>\n",
       "  <tbody>\n",
       "    <tr>\n",
       "      <th>0</th>\n",
       "      <td>131.579338</td>\n",
       "      <td>8.063088</td>\n",
       "      <td>-1.047255</td>\n",
       "      <td>525.389387</td>\n",
       "      <td>251.257108</td>\n",
       "      <td>190.941765</td>\n",
       "      <td>4.633137</td>\n",
       "      <td>800.540172</td>\n",
       "      <td>512.948284</td>\n",
       "      <td>964.983358</td>\n",
       "      <td>...</td>\n",
       "      <td>1.4375</td>\n",
       "      <td>0.1250</td>\n",
       "      <td>17.1250</td>\n",
       "      <td>17.1875</td>\n",
       "      <td>9.5000</td>\n",
       "      <td>0.3125</td>\n",
       "      <td>18.8125</td>\n",
       "      <td>21.2500</td>\n",
       "      <td>13.0625</td>\n",
       "      <td>A</td>\n",
       "    </tr>\n",
       "    <tr>\n",
       "      <th>1</th>\n",
       "      <td>59.562721</td>\n",
       "      <td>3.265270</td>\n",
       "      <td>-0.124020</td>\n",
       "      <td>311.589755</td>\n",
       "      <td>105.164608</td>\n",
       "      <td>86.858039</td>\n",
       "      <td>1.998333</td>\n",
       "      <td>428.542819</td>\n",
       "      <td>266.773064</td>\n",
       "      <td>593.225735</td>\n",
       "      <td>...</td>\n",
       "      <td>0.6250</td>\n",
       "      <td>0.1875</td>\n",
       "      <td>24.7500</td>\n",
       "      <td>10.0625</td>\n",
       "      <td>6.0625</td>\n",
       "      <td>0.1875</td>\n",
       "      <td>45.1875</td>\n",
       "      <td>21.5625</td>\n",
       "      <td>20.9375</td>\n",
       "      <td>A</td>\n",
       "    </tr>\n",
       "    <tr>\n",
       "      <th>2</th>\n",
       "      <td>78.161348</td>\n",
       "      <td>4.082672</td>\n",
       "      <td>0.090858</td>\n",
       "      <td>332.101740</td>\n",
       "      <td>125.539314</td>\n",
       "      <td>104.979804</td>\n",
       "      <td>2.434044</td>\n",
       "      <td>509.280025</td>\n",
       "      <td>294.737132</td>\n",
       "      <td>667.627255</td>\n",
       "      <td>...</td>\n",
       "      <td>0.8125</td>\n",
       "      <td>0.1250</td>\n",
       "      <td>23.5625</td>\n",
       "      <td>12.4375</td>\n",
       "      <td>7.4375</td>\n",
       "      <td>0.1875</td>\n",
       "      <td>35.5000</td>\n",
       "      <td>21.5625</td>\n",
       "      <td>18.0625</td>\n",
       "      <td>A</td>\n",
       "    </tr>\n",
       "    <tr>\n",
       "      <th>3</th>\n",
       "      <td>221.202696</td>\n",
       "      <td>13.453676</td>\n",
       "      <td>-0.900564</td>\n",
       "      <td>688.458578</td>\n",
       "      <td>393.714020</td>\n",
       "      <td>278.216078</td>\n",
       "      <td>6.689142</td>\n",
       "      <td>1031.911201</td>\n",
       "      <td>671.839044</td>\n",
       "      <td>1172.535319</td>\n",
       "      <td>...</td>\n",
       "      <td>2.3750</td>\n",
       "      <td>0.3750</td>\n",
       "      <td>11.9375</td>\n",
       "      <td>16.6250</td>\n",
       "      <td>9.6250</td>\n",
       "      <td>0.4375</td>\n",
       "      <td>9.5000</td>\n",
       "      <td>15.8125</td>\n",
       "      <td>8.0625</td>\n",
       "      <td>A</td>\n",
       "    </tr>\n",
       "    <tr>\n",
       "      <th>4</th>\n",
       "      <td>69.817475</td>\n",
       "      <td>3.064216</td>\n",
       "      <td>0.337623</td>\n",
       "      <td>332.132451</td>\n",
       "      <td>124.601373</td>\n",
       "      <td>104.529289</td>\n",
       "      <td>2.968333</td>\n",
       "      <td>462.369436</td>\n",
       "      <td>289.056618</td>\n",
       "      <td>660.983922</td>\n",
       "      <td>...</td>\n",
       "      <td>0.8125</td>\n",
       "      <td>0.1875</td>\n",
       "      <td>24.6875</td>\n",
       "      <td>10.9375</td>\n",
       "      <td>7.0625</td>\n",
       "      <td>0.2500</td>\n",
       "      <td>41.2500</td>\n",
       "      <td>22.2500</td>\n",
       "      <td>19.8750</td>\n",
       "      <td>A</td>\n",
       "    </tr>\n",
       "  </tbody>\n",
       "</table>\n",
       "<p>5 rows × 81 columns</p>\n",
       "</div>"
      ],
      "text/plain": [
       "         mu11       mu12      mu13        mu14        mu15        mu16  \\\n",
       "0  131.579338   8.063088 -1.047255  525.389387  251.257108  190.941765   \n",
       "1   59.562721   3.265270 -0.124020  311.589755  105.164608   86.858039   \n",
       "2   78.161348   4.082672  0.090858  332.101740  125.539314  104.979804   \n",
       "3  221.202696  13.453676 -0.900564  688.458578  393.714020  278.216078   \n",
       "4   69.817475   3.064216  0.337623  332.132451  124.601373  104.529289   \n",
       "\n",
       "       mu17         mu18        mu19        mu110  ...  grad22  grad23  \\\n",
       "0  4.633137   800.540172  512.948284   964.983358  ...  1.4375  0.1250   \n",
       "1  1.998333   428.542819  266.773064   593.225735  ...  0.6250  0.1875   \n",
       "2  2.434044   509.280025  294.737132   667.627255  ...  0.8125  0.1250   \n",
       "3  6.689142  1031.911201  671.839044  1172.535319  ...  2.3750  0.3750   \n",
       "4  2.968333   462.369436  289.056618   660.983922  ...  0.8125  0.1875   \n",
       "\n",
       "    grad24   grad25  grad26  grad27   grad28   grad29  grad210  label  \n",
       "0  17.1250  17.1875  9.5000  0.3125  18.8125  21.2500  13.0625      A  \n",
       "1  24.7500  10.0625  6.0625  0.1875  45.1875  21.5625  20.9375      A  \n",
       "2  23.5625  12.4375  7.4375  0.1875  35.5000  21.5625  18.0625      A  \n",
       "3  11.9375  16.6250  9.6250  0.4375   9.5000  15.8125   8.0625      A  \n",
       "4  24.6875  10.9375  7.0625  0.2500  41.2500  22.2500  19.8750      A  \n",
       "\n",
       "[5 rows x 81 columns]"
      ]
     },
     "execution_count": 4,
     "metadata": {},
     "output_type": "execute_result"
    }
   ],
   "source": [
    "df = pd.read_csv(\"../dataset/data_2c40d2w.csv\") # 2 window dataset\n",
    "df.head()"
   ]
  },
  {
   "cell_type": "code",
   "execution_count": 5,
   "id": "6232993c",
   "metadata": {},
   "outputs": [
    {
     "data": {
      "text/plain": [
       "((56, 80), (14, 80), (56,), (14,))"
      ]
     },
     "execution_count": 5,
     "metadata": {},
     "output_type": "execute_result"
    }
   ],
   "source": [
    "X = df.drop(columns=\"label\")\n",
    "y = df.label\n",
    "\n",
    "X_train, X_test, y_train, y_test = train_test_split(X, y, test_size=0.2, stratify=y, random_state=42)\n",
    "X_train.shape, X_test.shape, y_train.shape, y_test.shape"
   ]
  },
  {
   "cell_type": "code",
   "execution_count": 6,
   "id": "6b57b51e",
   "metadata": {},
   "outputs": [],
   "source": [
    "LOOCV = LeaveOneOut()\n",
    "\n",
    "preprocessor = ColumnTransformer([\n",
    "    ('numeric', num_pipe(scaling=\"minmax\"), list(X.columns)),\n",
    "])\n",
    "\n",
    "pipeline_svm_linear = Pipeline([\n",
    "    ('prep', preprocessor),\n",
    "    ('algo', SVC(kernel=\"linear\", probability=True, random_state=42))\n",
    "])\n",
    "\n",
    "pipeline_svm_rbf = Pipeline([\n",
    "    ('prep', preprocessor),\n",
    "    ('algo', SVC(kernel=\"rbf\", probability=True, random_state=42))\n",
    "])\n",
    "\n",
    "svm_params = {'algo__gamma': np.array([1.e-03, 1.e-02, 1.e-01, 1.e+00, 1.e+01, 1.e+02, 1.e+03]),\n",
    "              'algo__C': np.array([1.e-03, 1.e-02, 1.e-01, 1.e+00, 1.e+01, 1.e+02, 1.e+03])}"
   ]
  },
  {
   "cell_type": "code",
   "execution_count": 7,
   "id": "9cc22e7a",
   "metadata": {},
   "outputs": [],
   "source": [
    "model_svm_linear = GridSearchCV(pipeline_svm_linear, svm_params, cv=LOOCV, n_jobs=-1);\n",
    "model_svm_rbf = GridSearchCV(pipeline_svm_rbf, svm_params, cv=LOOCV, n_jobs=-1);\n",
    "\n",
    "model_svm_linear.fit(X_train, y_train);\n",
    "model_svm_rbf.fit(X_train, y_train);"
   ]
  },
  {
   "cell_type": "markdown",
   "id": "666fee47",
   "metadata": {},
   "source": [
    "# Linear SVM Model Evaluation"
   ]
  },
  {
   "cell_type": "code",
   "execution_count": 8,
   "id": "f53097ca",
   "metadata": {},
   "outputs": [
    {
     "name": "stdout",
     "output_type": "stream",
     "text": [
      "{'algo__C': 10.0, 'algo__gamma': 0.001}\n",
      "0.9464285714285714 0.8214285714285714 0.7857142857142857\n"
     ]
    }
   ],
   "source": [
    "print(model_svm_linear.best_params_)\n",
    "print(model_svm_linear.score(X_train, y_train), model_svm_linear.best_score_, model_svm_linear.score(X_test, y_test))"
   ]
  },
  {
   "cell_type": "code",
   "execution_count": 9,
   "id": "0f766e6d",
   "metadata": {},
   "outputs": [
    {
     "name": "stdout",
     "output_type": "stream",
     "text": [
      "Train report\n",
      "              precision    recall  f1-score   support\n",
      "\n",
      "           A       0.93      0.96      0.95        28\n",
      "           B       0.96      0.93      0.95        28\n",
      "\n",
      "    accuracy                           0.95        56\n",
      "   macro avg       0.95      0.95      0.95        56\n",
      "weighted avg       0.95      0.95      0.95        56\n",
      "\n",
      "\n",
      "Test report\n",
      "              precision    recall  f1-score   support\n",
      "\n",
      "           A       0.75      0.86      0.80         7\n",
      "           B       0.83      0.71      0.77         7\n",
      "\n",
      "    accuracy                           0.79        14\n",
      "   macro avg       0.79      0.79      0.78        14\n",
      "weighted avg       0.79      0.79      0.78        14\n",
      "\n"
     ]
    }
   ],
   "source": [
    "plot_classification_report(X_train, y_train, X_test, y_test, model_svm_linear, report=True)"
   ]
  },
  {
   "cell_type": "code",
   "execution_count": 10,
   "id": "3f914c41",
   "metadata": {},
   "outputs": [
    {
     "data": {
      "image/png": "[encoded data removed]",
      "text/plain": [
       "<Figure size 792x360 with 2 Axes>"
      ]
     },
     "metadata": {
      "needs_background": "light"
     },
     "output_type": "display_data"
    }
   ],
   "source": [
    "plot_classification_report(X_train, y_train, X_test, y_test, model_svm_linear)"
   ]
  },
  {
   "cell_type": "code",
   "execution_count": 11,
   "id": "39e20033",
   "metadata": {},
   "outputs": [
    {
     "data": {
      "image/png": "[encoded data removed]",
      "text/plain": [
       "<Figure size 792x360 with 2 Axes>"
      ]
     },
     "metadata": {
      "needs_background": "light"
     },
     "output_type": "display_data"
    }
   ],
   "source": [
    "plot_confusion_matrix(X_train, y_train, X_test, y_test, model_svm_linear)"
   ]
  },
  {
   "cell_type": "markdown",
   "id": "ac00e1e6",
   "metadata": {},
   "source": [
    "# RBF SVM Model Evaluation"
   ]
  },
  {
   "cell_type": "code",
   "execution_count": 12,
   "id": "3f3b7955",
   "metadata": {},
   "outputs": [
    {
     "name": "stdout",
     "output_type": "stream",
     "text": [
      "{'algo__C': 1000.0, 'algo__gamma': 0.01}\n",
      "1.0 0.8571428571428571 0.6428571428571429\n"
     ]
    }
   ],
   "source": [
    "print(model_svm_rbf.best_params_)\n",
    "print(model_svm_rbf.score(X_train, y_train), model_svm_rbf.best_score_, model_svm_rbf.score(X_test, y_test))"
   ]
  },
  {
   "cell_type": "code",
   "execution_count": 13,
   "id": "46b9ad34",
   "metadata": {},
   "outputs": [
    {
     "name": "stdout",
     "output_type": "stream",
     "text": [
      "Train report\n",
      "              precision    recall  f1-score   support\n",
      "\n",
      "           A       1.00      1.00      1.00        28\n",
      "           B       1.00      1.00      1.00        28\n",
      "\n",
      "    accuracy                           1.00        56\n",
      "   macro avg       1.00      1.00      1.00        56\n",
      "weighted avg       1.00      1.00      1.00        56\n",
      "\n",
      "\n",
      "Test report\n",
      "              precision    recall  f1-score   support\n",
      "\n",
      "           A       0.60      0.86      0.71         7\n",
      "           B       0.75      0.43      0.55         7\n",
      "\n",
      "    accuracy                           0.64        14\n",
      "   macro avg       0.68      0.64      0.63        14\n",
      "weighted avg       0.67      0.64      0.63        14\n",
      "\n"
     ]
    }
   ],
   "source": [
    "plot_classification_report(X_train, y_train, X_test, y_test, model_svm_rbf, report=True)"
   ]
  },
  {
   "cell_type": "code",
   "execution_count": 14,
   "id": "769ace03",
   "metadata": {},
   "outputs": [
    {
     "data": {
      "image/png": "[encoded data removed]",
      "text/plain": [
       "<Figure size 792x360 with 2 Axes>"
      ]
     },
     "metadata": {
      "needs_background": "light"
     },
     "output_type": "display_data"
    }
   ],
   "source": [
    "plot_classification_report(X_train, y_train, X_test, y_test, model_svm_rbf)"
   ]
  },
  {
   "cell_type": "code",
   "execution_count": 15,
   "id": "a9ef2481",
   "metadata": {},
   "outputs": [
    {
     "data": {
      "image/png": "[encoded data removed]",
      "text/plain": [
       "<Figure size 792x360 with 2 Axes>"
      ]
     },
     "metadata": {
      "needs_background": "light"
     },
     "output_type": "display_data"
    }
   ],
   "source": [
    "plot_confusion_matrix(X_train, y_train, X_test, y_test, model_svm_rbf)"
   ]
  },
  {
   "cell_type": "markdown",
   "id": "1c04884f",
   "metadata": {},
   "source": [
    "# Save Model"
   ]
  },
  {
   "cell_type": "code",
   "execution_count": 16,
   "id": "c7075c59",
   "metadata": {},
   "outputs": [],
   "source": [
    "import pickle\n",
    "import os\n",
    "file_path = \"../model\"\n",
    "os.makedirs(file_path, exist_ok=True)\n",
    "pickle.dump(model_svm_linear, open(f\"{file_path}/svm_linear_2w.pkl\", \"wb\"))\n",
    "pickle.dump(model_svm_rbf, open(f\"{file_path}/svm_rbf_2w.pkl\", \"wb\"))"
   ]
  },
  {
   "cell_type": "code",
   "execution_count": null,
   "id": "87b27af9",
   "metadata": {},
   "outputs": [],
   "source": []
  }
 ],
 "metadata": {
  "kernelspec": {
   "display_name": "Python [conda env:tf]",
   "language": "python",
   "name": "conda-env-tf-py"
  },
  "language_info": {
   "codemirror_mode": {
    "name": "ipython",
    "version": 3
   },
   "file_extension": ".py",
   "mimetype": "text/x-python",
   "name": "python",
   "nbconvert_exporter": "python",
   "pygments_lexer": "ipython3",
   "version": "3.7.11"
  }
 },
 "nbformat": 4,
 "nbformat_minor": 5
}
